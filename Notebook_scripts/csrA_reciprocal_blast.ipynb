{
 "cells": [
  {
   "cell_type": "code",
   "execution_count": 13,
   "id": "42d69c21-5153-4287-9e6c-69bd8f013319",
   "metadata": {
    "tags": []
   },
   "outputs": [],
   "source": [
    "import pandas as pd\n",
    "import os\n",
    "from blastScripts import make_queries as mq"
   ]
  },
  {
   "cell_type": "markdown",
   "id": "59291d75-3e8d-4b36-bd37-38eac66ea1c2",
   "metadata": {
    "tags": []
   },
   "source": [
    "## Run reciprocal blast"
   ]
  },
  {
   "cell_type": "code",
   "execution_count": 154,
   "id": "a91b4db3-f7e1-4ac3-82ea-a43913e56d78",
   "metadata": {
    "tags": []
   },
   "outputs": [],
   "source": [
    "def reciprocal_blastp(database_dir, query_file, out_dirname, proteome_dir, reference_proteome_path):\n",
    "    databases  = [db for db in os.listdir(database_dir) if db != '.DS_Store']\n",
    "    proteomes = [p.replace('.faa', '') for p in os.listdir(proteome_dir)]\n",
    "    for database in databases:\n",
    "        if database not in proteomes:\n",
    "            raise Exception(f'{proteome} not present in proteomes')\n",
    "    os.makedirs(out_dirname)\n",
    "    forward_results_dir = os.path.join(out_dirname, 'forward_blast_results')\n",
    "    multi_database_query(database_dir, query_file, forward_results_dir)\n",
    "\n",
    "    rblast_queries_dir = os.path.join(out_dirname, 'forward_best_hits')\n",
    "    mq.write_best_hit_queries(proteome_dir, forward_results_dir, rblast_queries_dir)\n",
    "    \n",
    "    \n",
    "    ref_db_name = reference_proteome_path.replace('.faa', '_blast_db')\n",
    "    #os.makedirs('reference_db')\n",
    "    reference_db_path = os.path.join(out_dirname, 'reference_db/reference_db')\n",
    "    print(reference_db_path)\n",
    "    !makeblastdb -in $reference_proteome_path -dbtype 'prot' -out $reference_db_path\n",
    "    recip_blast(rblast_queries_dir, reference_db_path, os.path.join(out_dirname,'reciprocal_blast_results'))\n",
    "    \n",
    "    "
   ]
  },
  {
   "cell_type": "code",
   "execution_count": 2,
   "id": "fbb7c1e8-3378-4485-894c-a32c10f3a305",
   "metadata": {
    "tags": []
   },
   "outputs": [],
   "source": [
    "query_file = '../Pseudomonas_1_csrA.faa'\n",
    "database_dir = '../test_blast_db/'\n",
    "proteome_dir = '../proteomes'\n",
    "reference_proteome_path = '../P_aeruginosa_PA01.faa'\n",
    "out_dirname = '../test_rblast_results_Psuedo'\n",
    "  \n",
    "#reciprocal_blastp(database_dir, query_file, out_dirname, proteome_dir, reference_proteome_path)"
   ]
  },
  {
   "cell_type": "code",
   "execution_count": 14,
   "id": "b05fbc59-162f-43e0-ad77-852597271ffc",
   "metadata": {
    "tags": []
   },
   "outputs": [],
   "source": []
  },
  {
   "cell_type": "code",
   "execution_count": 3,
   "id": "fd6c8ef2-86d4-4e24-b8e3-ffbc6f661491",
   "metadata": {
    "tags": []
   },
   "outputs": [],
   "source": [
    "\n"
   ]
  },
  {
   "cell_type": "code",
   "execution_count": null,
   "id": "3a84db1d-0f57-4035-b768-1b578bb3beb7",
   "metadata": {
    "tags": []
   },
   "outputs": [],
   "source": []
  },
  {
   "cell_type": "markdown",
   "id": "25a7293f-c3a2-4fe4-8a00-48f77615b8c2",
   "metadata": {
    "tags": []
   },
   "source": [
    "### get metedata for human gut microbiome  \n",
    "1. Filter for only the ~4400 representative species  \n",
    "FTP downloads: \n",
    "http://ftp.ebi.ac.uk/pub/databases/metagenomics/mgnify_genomes/human-gut/v2.0.1/  \n"
   ]
  },
  {
   "cell_type": "code",
   "execution_count": 16,
   "id": "608683d6-f744-40d1-a3dc-ded8be5d3221",
   "metadata": {
    "tags": []
   },
   "outputs": [],
   "source": [
    "metadata_df =  pd.read_csv('../gut_microbiome/genomes-all_metadata.tsv', sep = '\\t')\n",
    "metadata_df = metadata_df.set_index('Genome')\n",
    "### get accessions for species representative\n",
    "rep_accessions = list(set(metadata_df['Species_rep']))\n",
    "metadata_df_repr = metadata_df.loc[rep_accessions,:]"
   ]
  },
  {
   "cell_type": "markdown",
   "id": "3c9be757-60fb-4d6f-827e-8b1439eccbce",
   "metadata": {},
   "source": [
    "## Run commented out code only once to get the proteomes and build the blast database"
   ]
  },
  {
   "cell_type": "markdown",
   "id": "8b36830e-4136-4cb0-97fe-96c06d3e7180",
   "metadata": {
    "tags": []
   },
   "source": [
    "### Download proteomes for all representative species"
   ]
  },
  {
   "cell_type": "code",
   "execution_count": 10,
   "id": "4722b4f4-2830-4510-9525-f041ddd6ccd3",
   "metadata": {
    "tags": []
   },
   "outputs": [],
   "source": [
    "def download_mgnify_hsgut_proteomes(rep_accessions):\n",
    "    for acc in rep_accessions:\n",
    "        url = f'https://www.ebi.ac.uk/metagenomics/api/v1/genomes/{acc}/downloads/{acc}.faa'\n",
    "        out_fp = f'../Proteomes/{acc}.faa'\n",
    "        !curl $url > $out_fp\n",
    "#download_mgnify_hsgut_proteomes(rep_accessions)"
   ]
  },
  {
   "cell_type": "markdown",
   "id": "1f2c98ab-1c7d-409e-8852-0371b172daaa",
   "metadata": {
    "tags": []
   },
   "source": [
    "### Make blast database from each proteome file"
   ]
  },
  {
   "cell_type": "code",
   "execution_count": 11,
   "id": "da766c67-04f5-452a-abf8-c574610d0c6d",
   "metadata": {
    "tags": []
   },
   "outputs": [],
   "source": [
    "def make_blastp_databases(proteome_dir, out_dir):\n",
    "    \"\"\"Make a blastp database for each proteome within a given directory\"\"\"\n",
    "    lst_assembly_accessions = [acc.replace('.faa', '') for acc in os.listdir(proteome_dir)]\n",
    "    for acc in lst_assembly_accessions:\n",
    "        proteome_path = f'{proteome_dir}/{acc}.faa'\n",
    "        out = f'{out_dir}/{acc}/{acc}_db'\n",
    "        !makeblastdb -in $proteome_path -dbtype 'prot' -out $out"
   ]
  },
  {
   "cell_type": "code",
   "execution_count": 5,
   "id": "d733415a-678e-418b-b0ee-6ca0b3c23f88",
   "metadata": {
    "tags": []
   },
   "outputs": [],
   "source": [
    "#make_blastp_databases('../proteomes', './blast_databases')"
   ]
  },
  {
   "cell_type": "markdown",
   "id": "84229269-1a72-4afe-8c57-6d504b9ef9e5",
   "metadata": {
    "tags": []
   },
   "source": [
    "### Query each database with the original sequence to which you are finding orthologs  "
   ]
  },
  {
   "cell_type": "code",
   "execution_count": 12,
   "id": "1ff43c8c-abb6-43f7-b7a2-0381e4b2a9e5",
   "metadata": {
    "tags": []
   },
   "outputs": [],
   "source": [
    "def multi_database_query(database_dir, query_filepath, out_dir_path):\n",
    "    \"\"\"Query each blastp database within the database_dir and make a hits text file in the out_dir\"\"\"\n",
    "        \n",
    "    if not out_dir_path:\n",
    "        out_dir_path = './forward_blast_results'\n",
    "    if not os.path.exists(out_dir_path):\n",
    "        os.makedirs(out_dir_path)\n",
    "    for acc in [acc for acc in os.listdir(database_dir) if acc != '.DS_Store']:\n",
    "        base_filepath = os.path.join(database_dir, f'{acc}/{acc}_db')\n",
    "        out_filepath = os.path.join(out_dir_path, f'{acc}_blastpOut.txt')\n",
    "        print(out_filepath)\n",
    "        !blastp -query $query_file -db $base_filepath -num_descriptions 5 -num_alignments 5 -out $out_filepath\n",
    "        \n",
    "# query_file = '../B_subtilis_csra.faa'\n",
    "# database_dir = '../blast_databases'\n",
    "# out_dir_path = '../forward_blast_results_1'\n",
    "#multi_database_query(database_dir, query_file, out_dir_path)    "
   ]
  },
  {
   "cell_type": "markdown",
   "id": "6fd6949e-6cbb-4689-ac45-e28f6282db5d",
   "metadata": {},
   "source": [
    "### Reciprocal blast  "
   ]
  },
  {
   "cell_type": "code",
   "execution_count": 15,
   "id": "b376c2fb-9c6d-47fd-a3fb-14fc881e64a8",
   "metadata": {
    "tags": []
   },
   "outputs": [],
   "source": [
    "def recip_blast(rblast_queries_dir, rblast_db_path, outDir):\n",
    "    \"\"\" \"\"\"\n",
    "    os.makedirs(outDir)\n",
    "    query_files = [file for file in os.listdir(rblast_queries_dir) if file.endswith('.faa')]\n",
    "    for query in query_files:\n",
    "        outfile_name = query.replace('.faa', '_blastpOut.txt')\n",
    "        out_path = os.path.join(outDir, f'{outfile_name}')\n",
    "        query_path  = os.path.join(rblast_queries_dir, query)\n",
    "        print(query_path,rblast_db_path, out_path, )\n",
    "        !blastp -query $query_path -db $rblast_db_path -num_descriptions 5 -num_alignments 5 -out $out_path"
   ]
  },
  {
   "cell_type": "code",
   "execution_count": 53,
   "id": "bd936b6a-8d19-4b2c-9591-00370ebad4b6",
   "metadata": {
    "tags": []
   },
   "outputs": [],
   "source": [
    "path_to_rblast_Pseudo = '../all_rblast_results_Psuedo/reciprocal_blast_results'\n",
    "path_to_rblast_subt =   '../all_rblast_results_subtilis/reciprocal_blast_results'\n",
    "path_to_fblast_Pseudo = '../all_rblast_results_Psuedo/forward_blast_results'\n",
    "path_to_fblast_subt =   '../all_rblast_results_subtilis/forward_blast_results'\n"
   ]
  },
  {
   "cell_type": "code",
   "execution_count": 80,
   "id": "1c1195b0-251a-4992-84f6-11a33e9229dd",
   "metadata": {
    "tags": []
   },
   "outputs": [],
   "source": [
    "def get_blastbesthit_dict(path_to_blast_results, accession_length=13):\n",
    "    \"\"\"Return a dict {accession:protein_id} with the accession of genome and the best hit in the source genome\"\"\"\n",
    "    \n",
    "    files =os.listdir(path_to_blast_results)\n",
    "    paths = [os.path.join(path_to_blast_results,file) for file in files]\n",
    "    best_hits_dict = {}\n",
    "    for file, path in zip(files, paths):\n",
    "        accession = file[:accession_length]\n",
    "        with open(path, 'r') as f:\n",
    "            for i,line in enumerate(f):\n",
    "                if line.startswith('>'):\n",
    "                    prot_id = line.split(' ')[0][1:]\n",
    "                    best_hits_dict[accession]=prot_id\n",
    "                    break\n",
    "    return best_hits_dict\n",
    "\n",
    "\n",
    "best_subt_rhits_dict = get_blastbesthit_dict(path_to_rblast_subt, accession_length=13)\n",
    "best_pseudo_rhits_dict = get_blastbesthit_dict(path_to_rblast_Pseudo, accession_length=13)\n",
    "best_subt_fhits_dict = get_blastbesthit_dict(path_to_fblast_subt, accession_length=13)\n",
    "best_pseudo_fhits_dict = get_blastbesthit_dict(path_to_fblast_Pseudo, accession_length=13)\n",
    "subt_df = pd.DataFrame.from_dict(best_subt_rhits_dict, orient='index').merge(pd.DataFrame.from_dict(best_subt_fhits_dict, orient='index'), left_index=True, right_index=True)\n",
    "pseudo_df = pd.DataFrame.from_dict(best_pseudo_rhits_dict, orient='index').merge(pd.DataFrame.from_dict(best_pseudo_fhits_dict, orient='index'), left_index=True, right_index=True)\n",
    "subt_df.columns = ['r_bbhit', 'f_bbhit']\n",
    "pseudo_df.columns = ['r_bbhit', 'f_bbhit']"
   ]
  },
  {
   "cell_type": "code",
   "execution_count": null,
   "id": "cbb65551-e9dc-46fe-89f5-2300c862693e",
   "metadata": {
    "tags": []
   },
   "outputs": [],
   "source": [
    "\n"
   ]
  },
  {
   "cell_type": "code",
   "execution_count": 81,
   "id": "2aa0f389-ea80-4c2a-a2d4-3ce70b1cb197",
   "metadata": {
    "tags": []
   },
   "outputs": [
    {
     "data": {
      "text/html": [
       "<div>\n",
       "<style scoped>\n",
       "    .dataframe tbody tr th:only-of-type {\n",
       "        vertical-align: middle;\n",
       "    }\n",
       "\n",
       "    .dataframe tbody tr th {\n",
       "        vertical-align: top;\n",
       "    }\n",
       "\n",
       "    .dataframe thead th {\n",
       "        text-align: right;\n",
       "    }\n",
       "</style>\n",
       "<table border=\"1\" class=\"dataframe\">\n",
       "  <thead>\n",
       "    <tr style=\"text-align: right;\">\n",
       "      <th></th>\n",
       "      <th>r_bbhit</th>\n",
       "      <th>f_bbhit</th>\n",
       "    </tr>\n",
       "  </thead>\n",
       "  <tbody>\n",
       "    <tr>\n",
       "      <th>MGYG000003619</th>\n",
       "      <td>NP_391417.1</td>\n",
       "      <td>MGYG000003619_01053</td>\n",
       "    </tr>\n",
       "    <tr>\n",
       "      <th>MGYG000003060</th>\n",
       "      <td>NP_391417.1</td>\n",
       "      <td>MGYG000003060_00284</td>\n",
       "    </tr>\n",
       "    <tr>\n",
       "      <th>MGYG000002683</th>\n",
       "      <td>NP_391417.1</td>\n",
       "      <td>MGYG000002683_00326</td>\n",
       "    </tr>\n",
       "    <tr>\n",
       "      <th>MGYG000000626</th>\n",
       "      <td>NP_391417.1</td>\n",
       "      <td>MGYG000000626_00410</td>\n",
       "    </tr>\n",
       "    <tr>\n",
       "      <th>MGYG000002462</th>\n",
       "      <td>NP_391417.1</td>\n",
       "      <td>MGYG000002462_03497</td>\n",
       "    </tr>\n",
       "    <tr>\n",
       "      <th>...</th>\n",
       "      <td>...</td>\n",
       "      <td>...</td>\n",
       "    </tr>\n",
       "    <tr>\n",
       "      <th>MGYG000000864</th>\n",
       "      <td>NP_391417.1</td>\n",
       "      <td>MGYG000000864_02155</td>\n",
       "    </tr>\n",
       "    <tr>\n",
       "      <th>MGYG000001491</th>\n",
       "      <td>NP_391417.1</td>\n",
       "      <td>MGYG000001491_01283</td>\n",
       "    </tr>\n",
       "    <tr>\n",
       "      <th>MGYG000001312</th>\n",
       "      <td>NP_391417.1</td>\n",
       "      <td>MGYG000001312_01817</td>\n",
       "    </tr>\n",
       "    <tr>\n",
       "      <th>MGYG000001486</th>\n",
       "      <td>NP_391417.1</td>\n",
       "      <td>MGYG000001486_01494</td>\n",
       "    </tr>\n",
       "    <tr>\n",
       "      <th>MGYG000002404</th>\n",
       "      <td>NP_391417.1</td>\n",
       "      <td>MGYG000002404_03669</td>\n",
       "    </tr>\n",
       "  </tbody>\n",
       "</table>\n",
       "<p>758 rows × 2 columns</p>\n",
       "</div>"
      ],
      "text/plain": [
       "                   r_bbhit              f_bbhit\n",
       "MGYG000003619  NP_391417.1  MGYG000003619_01053\n",
       "MGYG000003060  NP_391417.1  MGYG000003060_00284\n",
       "MGYG000002683  NP_391417.1  MGYG000002683_00326\n",
       "MGYG000000626  NP_391417.1  MGYG000000626_00410\n",
       "MGYG000002462  NP_391417.1  MGYG000002462_03497\n",
       "...                    ...                  ...\n",
       "MGYG000000864  NP_391417.1  MGYG000000864_02155\n",
       "MGYG000001491  NP_391417.1  MGYG000001491_01283\n",
       "MGYG000001312  NP_391417.1  MGYG000001312_01817\n",
       "MGYG000001486  NP_391417.1  MGYG000001486_01494\n",
       "MGYG000002404  NP_391417.1  MGYG000002404_03669\n",
       "\n",
       "[758 rows x 2 columns]"
      ]
     },
     "execution_count": 81,
     "metadata": {},
     "output_type": "execute_result"
    }
   ],
   "source": [
    "csrA_prot_ID = 'NP_391417.1'\n",
    "subt_ortho_d = get_species_with_orthos(csrA_prot_ID, best_rHits_subt_d)\n",
    "subt_ortho_d\n",
    "\n",
    "subt_filt_df = subt_df.loc[subt_df['r_bbhit']== csrA_prot_ID,:] \n",
    "pseudo_filt_df = pseudo_df.loc[pseudo_df['r_bbhit']== csrA_prot_ID,:] \n",
    "subt_filt_df"
   ]
  },
  {
   "cell_type": "code",
   "execution_count": 150,
   "id": "750d13e8-b6ca-4ecd-b524-a77376e4822e",
   "metadata": {
    "tags": []
   },
   "outputs": [
    {
     "ename": "UnicodeDecodeError",
     "evalue": "'utf-8' codec can't decode byte 0x80 in position 2874: invalid start byte",
     "output_type": "error",
     "traceback": [
      "\u001b[0;31m---------------------------------------------------------------------------\u001b[0m",
      "\u001b[0;31mUnicodeDecodeError\u001b[0m                        Traceback (most recent call last)",
      "\u001b[0;32m/var/folders/f4/b2mhwx4x4lqgtss5t8r9cxqh0000gn/T/ipykernel_26196/1070647324.py\u001b[0m in \u001b[0;36m<cell line: 3>\u001b[0;34m()\u001b[0m\n\u001b[1;32m      2\u001b[0m \u001b[0mprot_id_taxid_d\u001b[0m \u001b[0;34m=\u001b[0m \u001b[0;34m{\u001b[0m\u001b[0;34m}\u001b[0m\u001b[0;34m\u001b[0m\u001b[0;34m\u001b[0m\u001b[0m\n\u001b[1;32m      3\u001b[0m \u001b[0;32mwith\u001b[0m \u001b[0mopen\u001b[0m\u001b[0;34m(\u001b[0m\u001b[0;34m'../all_hs_gut_proteomes.faa'\u001b[0m\u001b[0;34m,\u001b[0m \u001b[0;34m'r'\u001b[0m\u001b[0;34m)\u001b[0m \u001b[0;32mas\u001b[0m \u001b[0mf\u001b[0m\u001b[0;34m:\u001b[0m\u001b[0;34m\u001b[0m\u001b[0;34m\u001b[0m\u001b[0m\n\u001b[0;32m----> 4\u001b[0;31m     \u001b[0;32mfor\u001b[0m \u001b[0mline\u001b[0m \u001b[0;32min\u001b[0m \u001b[0mf\u001b[0m\u001b[0;34m:\u001b[0m\u001b[0;34m\u001b[0m\u001b[0;34m\u001b[0m\u001b[0m\n\u001b[0m\u001b[1;32m      5\u001b[0m         \u001b[0;32mif\u001b[0m \u001b[0mline\u001b[0m\u001b[0;34m.\u001b[0m\u001b[0mstartswith\u001b[0m\u001b[0;34m(\u001b[0m\u001b[0;34m'>'\u001b[0m\u001b[0;34m)\u001b[0m\u001b[0;34m:\u001b[0m\u001b[0;34m\u001b[0m\u001b[0;34m\u001b[0m\u001b[0m\n\u001b[1;32m      6\u001b[0m             \u001b[0mprot_id\u001b[0m  \u001b[0;34m=\u001b[0m \u001b[0mline\u001b[0m\u001b[0;34m.\u001b[0m\u001b[0msplit\u001b[0m\u001b[0;34m(\u001b[0m\u001b[0;34m' '\u001b[0m\u001b[0;34m)\u001b[0m\u001b[0;34m[\u001b[0m\u001b[0;36m0\u001b[0m\u001b[0;34m]\u001b[0m\u001b[0;34m[\u001b[0m\u001b[0;36m1\u001b[0m\u001b[0;34m:\u001b[0m\u001b[0;34m]\u001b[0m\u001b[0;34m\u001b[0m\u001b[0;34m\u001b[0m\u001b[0m\n",
      "\u001b[0;32m~/miniconda3/lib/python3.9/codecs.py\u001b[0m in \u001b[0;36mdecode\u001b[0;34m(self, input, final)\u001b[0m\n\u001b[1;32m    320\u001b[0m         \u001b[0;31m# decode input (taking the buffer into account)\u001b[0m\u001b[0;34m\u001b[0m\u001b[0;34m\u001b[0m\u001b[0m\n\u001b[1;32m    321\u001b[0m         \u001b[0mdata\u001b[0m \u001b[0;34m=\u001b[0m \u001b[0mself\u001b[0m\u001b[0;34m.\u001b[0m\u001b[0mbuffer\u001b[0m \u001b[0;34m+\u001b[0m \u001b[0minput\u001b[0m\u001b[0;34m\u001b[0m\u001b[0;34m\u001b[0m\u001b[0m\n\u001b[0;32m--> 322\u001b[0;31m         \u001b[0;34m(\u001b[0m\u001b[0mresult\u001b[0m\u001b[0;34m,\u001b[0m \u001b[0mconsumed\u001b[0m\u001b[0;34m)\u001b[0m \u001b[0;34m=\u001b[0m \u001b[0mself\u001b[0m\u001b[0;34m.\u001b[0m\u001b[0m_buffer_decode\u001b[0m\u001b[0;34m(\u001b[0m\u001b[0mdata\u001b[0m\u001b[0;34m,\u001b[0m \u001b[0mself\u001b[0m\u001b[0;34m.\u001b[0m\u001b[0merrors\u001b[0m\u001b[0;34m,\u001b[0m \u001b[0mfinal\u001b[0m\u001b[0;34m)\u001b[0m\u001b[0;34m\u001b[0m\u001b[0;34m\u001b[0m\u001b[0m\n\u001b[0m\u001b[1;32m    323\u001b[0m         \u001b[0;31m# keep undecoded input until the next call\u001b[0m\u001b[0;34m\u001b[0m\u001b[0;34m\u001b[0m\u001b[0m\n\u001b[1;32m    324\u001b[0m         \u001b[0mself\u001b[0m\u001b[0;34m.\u001b[0m\u001b[0mbuffer\u001b[0m \u001b[0;34m=\u001b[0m \u001b[0mdata\u001b[0m\u001b[0;34m[\u001b[0m\u001b[0mconsumed\u001b[0m\u001b[0;34m:\u001b[0m\u001b[0;34m]\u001b[0m\u001b[0;34m\u001b[0m\u001b[0;34m\u001b[0m\u001b[0m\n",
      "\u001b[0;31mUnicodeDecodeError\u001b[0m: 'utf-8' codec can't decode byte 0x80 in position 2874: invalid start byte"
     ]
    }
   ],
   "source": [
    "\n",
    "acc_taxid_d = {acc:i for i,acc in enumerate(rep_accessions)}\n",
    "prot_id_taxid_d = {}\n",
    "with open('../all_hs_gut_proteomes.faa', 'r') as f:\n",
    "    for line in f:\n",
    "        if line.startswith('>'):\n",
    "            prot_id  = line.split(' ')[0][1:]\n",
    "            acc = prot_id.split('_')[0]\n",
    "            prot_id_taxid_d[prot_id] = acc_taxid_d[acc]\n",
    "            \n",
    "with open('../TaxID_map.txt', 'w') as f:\n",
    "    for prot_id, taxid in prot_id_taxid_d.items():\n",
    "        f.write(f'{prot_id} {taxid}\\n')"
   ]
  },
  {
   "cell_type": "code",
   "execution_count": 149,
   "id": "592a2563-e68d-47b3-a47e-5cb80e6d6b05",
   "metadata": {
    "tags": []
   },
   "outputs": [],
   "source": []
  },
  {
   "cell_type": "code",
   "execution_count": 152,
   "id": "8885a220-dd57-41cd-9625-a000600a9e62",
   "metadata": {
    "tags": []
   },
   "outputs": [
    {
     "ename": "NameError",
     "evalue": "name 'rblast_queries_dir' is not defined",
     "output_type": "error",
     "traceback": [
      "\u001b[0;31m---------------------------------------------------------------------------\u001b[0m",
      "\u001b[0;31mNameError\u001b[0m                                 Traceback (most recent call last)",
      "\u001b[0;32m/var/folders/f4/b2mhwx4x4lqgtss5t8r9cxqh0000gn/T/ipykernel_26196/1118866060.py\u001b[0m in \u001b[0;36m<cell line: 1>\u001b[0;34m()\u001b[0m\n\u001b[0;32m----> 1\u001b[0;31m \u001b[0mquery_files\u001b[0m \u001b[0;34m=\u001b[0m \u001b[0;34m[\u001b[0m\u001b[0mfile\u001b[0m \u001b[0;32mfor\u001b[0m \u001b[0mfile\u001b[0m \u001b[0;32min\u001b[0m \u001b[0mos\u001b[0m\u001b[0;34m.\u001b[0m\u001b[0mlistdir\u001b[0m\u001b[0;34m(\u001b[0m\u001b[0mrblast_queries_dir\u001b[0m\u001b[0;34m)\u001b[0m \u001b[0;32mif\u001b[0m \u001b[0mfile\u001b[0m\u001b[0;34m.\u001b[0m\u001b[0mendswith\u001b[0m\u001b[0;34m(\u001b[0m\u001b[0;34m'.faa'\u001b[0m\u001b[0;34m)\u001b[0m\u001b[0;34m]\u001b[0m\u001b[0;34m\u001b[0m\u001b[0;34m\u001b[0m\u001b[0m\n\u001b[0m",
      "\u001b[0;31mNameError\u001b[0m: name 'rblast_queries_dir' is not defined"
     ]
    }
   ],
   "source": []
  },
  {
   "cell_type": "code",
   "execution_count": null,
   "id": "c3e8956e-07b2-4914-af5c-d608d470b58d",
   "metadata": {},
   "outputs": [],
   "source": []
  },
  {
   "cell_type": "code",
   "execution_count": null,
   "id": "b1f9d72a-7bd4-4155-bb2a-a8fef26ff94c",
   "metadata": {
    "tags": []
   },
   "outputs": [],
   "source": []
  },
  {
   "cell_type": "code",
   "execution_count": null,
   "id": "8461702b-afe3-451a-8d3b-8ea7bc4334f9",
   "metadata": {
    "tags": []
   },
   "outputs": [],
   "source": []
  },
  {
   "cell_type": "code",
   "execution_count": 96,
   "id": "2dc5f439-6f1f-42e8-bea2-339c354b1783",
   "metadata": {
    "tags": []
   },
   "outputs": [],
   "source": []
  },
  {
   "cell_type": "code",
   "execution_count": 106,
   "id": "14f3fd14-d395-442b-8355-62fef886e84a",
   "metadata": {
    "tags": []
   },
   "outputs": [],
   "source": []
  },
  {
   "cell_type": "code",
   "execution_count": 107,
   "id": "640e3b86-d1de-4931-9ff4-50c6cba16282",
   "metadata": {
    "tags": []
   },
   "outputs": [],
   "source": []
  },
  {
   "cell_type": "code",
   "execution_count": null,
   "id": "74eadc4a-9410-4fe5-867c-2754a622a193",
   "metadata": {
    "tags": []
   },
   "outputs": [],
   "source": []
  },
  {
   "cell_type": "code",
   "execution_count": null,
   "id": "832a7465-87a7-4926-83e8-f77ec4644ea9",
   "metadata": {
    "tags": []
   },
   "outputs": [],
   "source": [
    "\n",
    "    "
   ]
  },
  {
   "cell_type": "code",
   "execution_count": null,
   "id": "2ed1e8ea-788b-44d7-a57b-334b06083a60",
   "metadata": {
    "tags": []
   },
   "outputs": [],
   "source": []
  },
  {
   "cell_type": "code",
   "execution_count": null,
   "id": "3fbdb075-141a-4f78-8b61-6eaba9e4b9ca",
   "metadata": {
    "tags": []
   },
   "outputs": [],
   "source": []
  },
  {
   "cell_type": "code",
   "execution_count": null,
   "id": "6e90276a-c934-47d7-86cb-185aefe21b57",
   "metadata": {},
   "outputs": [],
   "source": []
  }
 ],
 "metadata": {
  "kernelspec": {
   "display_name": "Python 3 (ipykernel)",
   "language": "python",
   "name": "python3"
  },
  "language_info": {
   "codemirror_mode": {
    "name": "ipython",
    "version": 3
   },
   "file_extension": ".py",
   "mimetype": "text/x-python",
   "name": "python",
   "nbconvert_exporter": "python",
   "pygments_lexer": "ipython3",
   "version": "3.9.7"
  },
  "toc-autonumbering": true
 },
 "nbformat": 4,
 "nbformat_minor": 5
}
