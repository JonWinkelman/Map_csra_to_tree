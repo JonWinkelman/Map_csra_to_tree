{
 "cells": [
  {
   "cell_type": "code",
   "execution_count": 1,
   "metadata": {},
   "outputs": [],
   "source": [
    "import Bio\n",
    "from Bio import Phylo\n",
    "from Bio.Phylo.TreeConstruction import DistanceCalculator\n",
    "from Bio.Phylo.TreeConstruction import DistanceTreeConstructor\n",
    "from Bio import AlignIO\n",
    "import pandas as pd\n",
    "import numpy as np\n",
    "from jw_utils import jw_draw_tree\n",
    "from plotly import graph_objects as go\n",
    "import plotly.offline as pyo\n",
    "from jw_utils import parse_fasta as pfa\n",
    "import logomaker \n",
    "from matplotlib import pyplot as plt\n",
    "import plotly.io as pio"
   ]
  },
  {
   "cell_type": "code",
   "execution_count": 12,
   "metadata": {},
   "outputs": [
    {
     "data": {
      "text/plain": [
       "'temp-plot.html'"
      ]
     },
     "execution_count": 12,
     "metadata": {},
     "output_type": "execute_result"
    }
   ],
   "source": [
    "csra_nj_tree = Phylo.read('csrA_trimmed99_njtree.nwk', \"newick\")\n",
    "# Pick clades to get representative sequence for\n",
    "clade_names = ['Inner531', 'Inner524', 'Inner535', 'Inner539', 'Inner521', 'Inner541',\n",
    "               'Inner552', 'Inner551','Inner550', 'Inner545']\n",
    "\n",
    "colors = [ 'rgba(144,174,178,1)','rgba(100,199,250,1)','rgba(150,230,200,1)',\n",
    "          'rgba(55,81,77,1)','rgba(100,121,124,1)', 'rgba(200,200,100,1)',\n",
    "          'rgba(220,100,100,1)','rgba(180,132,100,1)','rgba(58,151,110,1) ',\n",
    "          'rgba(94,109,174,1)','rgba(182,89,76,1)']\n",
    "\n",
    "clade_color_d = {clade:color for clade, color in zip(clade_names, colors)}\n",
    "\n",
    "for name in clade_names:\n",
    "    non_term_namelst = [cl.name for cl in csra_nj_tree.get_nonterminals()]\n",
    "    if name not in non_term_namelst:\n",
    "        print(name)\n",
    "        \n",
    "\n",
    "# make dict {root_clade_name:all_nonterminal child nodes}\n",
    "in_node_d = {}\n",
    "for clade in csra_nj_tree.get_nonterminals():\n",
    "    if clade.name in clade_names:\n",
    "        in_node_d[clade.name] = [cl.name for cl in clade.get_nonterminals()]\n",
    "\n",
    "in_node_color_d = {}\n",
    "for key in in_node_d:\n",
    "    if key in clade_color_d.keys():\n",
    "        in_node_color_d[clade_color_d[key]] = in_node_d[key]\n",
    "        \n",
    "# get terminals of each clade\n",
    "non_term_clades = {cl.name:cl for cl in csra_nj_tree.get_nonterminals()}\n",
    "clade_leaves = {}\n",
    "clade_colors = {}\n",
    "for clade, color in zip(clade_names, colors):\n",
    "    clade_leaves[clade] = [cl.name for cl in non_term_clades.get(clade).get_terminals()]\n",
    "    clade_colors[color] = [cl.name for cl in non_term_clades.get(clade).get_terminals()]\n",
    "\n",
    "#Phylo.write(csra_nj_tree,'csrA_trimmed99_njtree.nwk', format='newick')\n",
    "\n",
    "fig = jw_draw_tree.create_plotly_tree_t(csra_nj_tree, t_nodes_color_dict=clade_colors, \n",
    "                                        height=1500, i_node_color_dict=in_node_color_d)\n",
    "fig = go.Figure(fig)\n",
    "pyo.plot(fig)"
   ]
  },
  {
   "cell_type": "code",
   "execution_count": 3,
   "metadata": {},
   "outputs": [],
   "source": [
    "pio.write_image(fig, 'colored_clusters.pdf')\n",
    "fig.write_html('colored_clusters.html')"
   ]
  },
  {
   "cell_type": "code",
   "execution_count": null,
   "metadata": {},
   "outputs": [],
   "source": []
  },
  {
   "cell_type": "code",
   "execution_count": 16,
   "metadata": {},
   "outputs": [],
   "source": [
    "# make csv cols = proteins, clusters, colors\n",
    "clade_color_d = {clade:color for clade, color in zip(clade_names, colors)}\n",
    "clusters = []\n",
    "proteins = []\n",
    "colors = []\n",
    "for cluster in clade_leaves.keys():\n",
    "    for protein in clade_leaves[cluster]:\n",
    "        clusters.append(cluster)\n",
    "        proteins.append(protein)\n",
    "        colors.append(clade_color_d[cluster])\n",
    "df = pd.DataFrame()\n",
    "df['proteins'] = proteins\n",
    "df['clusters'] = clusters\n",
    "df['colors'] = colors\n",
    "df.to_csv('./protein_clusters.csv')\n",
    "        "
   ]
  },
  {
   "cell_type": "code",
   "execution_count": null,
   "metadata": {},
   "outputs": [],
   "source": []
  },
  {
   "cell_type": "code",
   "execution_count": null,
   "metadata": {},
   "outputs": [],
   "source": []
  },
  {
   "cell_type": "code",
   "execution_count": null,
   "metadata": {},
   "outputs": [],
   "source": []
  },
  {
   "cell_type": "code",
   "execution_count": null,
   "metadata": {},
   "outputs": [],
   "source": []
  }
 ],
 "metadata": {
  "kernelspec": {
   "display_name": "Python 3 (ipykernel)",
   "language": "python",
   "name": "python3"
  },
  "language_info": {
   "codemirror_mode": {
    "name": "ipython",
    "version": 3
   },
   "file_extension": ".py",
   "mimetype": "text/x-python",
   "name": "python",
   "nbconvert_exporter": "python",
   "pygments_lexer": "ipython3",
   "version": "3.8.15"
  },
  "varInspector": {
   "cols": {
    "lenName": 16,
    "lenType": 16,
    "lenVar": 40
   },
   "kernels_config": {
    "python": {
     "delete_cmd_postfix": "",
     "delete_cmd_prefix": "del ",
     "library": "var_list.py",
     "varRefreshCmd": "print(var_dic_list())"
    },
    "r": {
     "delete_cmd_postfix": ") ",
     "delete_cmd_prefix": "rm(",
     "library": "var_list.r",
     "varRefreshCmd": "cat(var_dic_list()) "
    }
   },
   "types_to_exclude": [
    "module",
    "function",
    "builtin_function_or_method",
    "instance",
    "_Feature"
   ],
   "window_display": false
  }
 },
 "nbformat": 4,
 "nbformat_minor": 5
}
