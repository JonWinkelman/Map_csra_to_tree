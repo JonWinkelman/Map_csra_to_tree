{
 "cells": [
  {
   "cell_type": "markdown",
   "id": "7270bd6e-0bec-48f1-907b-af1f25874669",
   "metadata": {},
   "source": [
    "### map csrAs in motility experiment to species in human microbiome  \n",
    "Two methods:\n",
    "1) via Taxonomy  \n",
    "    -get taxonomic IDS from both the csrAs in the motility experiments and get taxonomic IDS from all of the species in the human gut microbiome\n",
    "2) via sequence similarity\n",
    "    - find all csrA orthologs in the Hs gut bacterial and archeal species and find if there are any exact matches or close matches\n",
    "1) get motility csrAs\n",
    "2) get taxonomy info from "
   ]
  },
  {
   "cell_type": "code",
   "execution_count": 8,
   "id": "954474dc-b719-498c-af82-d2e4e9863e3a",
   "metadata": {
    "tags": []
   },
   "outputs": [],
   "source": [
    "import os\n",
    "from Bio import Phylo\n",
    "import pandas as pd\n",
    "from jw_utils import jw_draw_tree as jdt\n",
    "from jw_utils import parse_fasta as pfa"
   ]
  },
  {
   "cell_type": "code",
   "execution_count": 14,
   "id": "896497de-e2ad-4ec8-919d-5a52bb50abc3",
   "metadata": {
    "tags": []
   },
   "outputs": [],
   "source": [
    "from ete3 import NCBITaxa\n",
    "ncbi = NCBITaxa()\n",
    "#ncbi.update_taxonomy_database()"
   ]
  },
  {
   "cell_type": "markdown",
   "id": "aa12ea2e-6147-44f5-9ebc-090c36cc46f2",
   "metadata": {
    "tags": []
   },
   "source": [
    "### get metedata for human gut microbiome  \n",
    "FTP downloads:  \n",
    "http://ftp.ebi.ac.uk/pub/databases/metagenomics/mgnify_genomes/human-gut/v2.0.1/  \n"
   ]
  },
  {
   "cell_type": "code",
   "execution_count": 16,
   "id": "b94c2d94-8af4-405a-8365-14d12ecf9c21",
   "metadata": {
    "tags": []
   },
   "outputs": [],
   "source": [
    "metadata_df =  pd.read_csv('../gut_microbiome/genomes-all_metadata.tsv', sep = '\\t')\n",
    "metadata_df = metadata_df.set_index('Genome')\n"
   ]
  },
  {
   "cell_type": "markdown",
   "id": "5618348c-e3de-4671-980d-5eb04edf98ce",
   "metadata": {
    "tags": []
   },
   "source": [
    "### Get bacterial and archeal phylogenetic trees"
   ]
  },
  {
   "cell_type": "code",
   "execution_count": 18,
   "id": "8f1fc82c-b406-40fd-bc11-d5047a76e198",
   "metadata": {
    "tags": []
   },
   "outputs": [],
   "source": [
    "#paths\n",
    "tree_dir = '../Hs_gut_phylotrees/'\n",
    "path_to_bac_tree = os.path.join(tree_dir, 'bac120_iqtree.nwk')\n",
    "path_to_arch_tree = os.path.join(tree_dir, 'ar122_iqtree.nwk')\n",
    "path_to_csra_tsv = '../Data/csrs.tsv'"
   ]
  },
  {
   "cell_type": "code",
   "execution_count": 20,
   "id": "f806895d-8c38-40ae-952d-954d3145dee9",
   "metadata": {
    "tags": []
   },
   "outputs": [
    {
     "name": "stdout",
     "output_type": "stream",
     "text": [
      "  % Total    % Received % Xferd  Average Speed   Time    Time     Time  Current\n",
      "                                 Dload  Upload   Total   Spent    Left  Speed\n",
      "100  193k  100  193k    0     0   288k      0 --:--:-- --:--:-- --:--:--  288k\n",
      "  % Total    % Received % Xferd  Average Speed   Time    Time     Time  Current\n",
      "                                 Dload  Upload   Total   Spent    Left  Speed\n",
      "100  1134  100  1134    0     0   5437      0 --:--:-- --:--:-- --:--:--  5451\n"
     ]
    }
   ],
   "source": [
    "#get phylogenetic tree for gut microbiome\n",
    "if not os.path.exists(tree_dir):\n",
    "    os.makedirs(tree_dir)\n",
    "\n",
    "!curl http://ftp.ebi.ac.uk/pub/databases/metagenomics/mgnify_genomes/human-gut/v2.0.1/phylogenies/bac120_iqtree.nwk > $path_to_bac_tree\n",
    "!curl http://ftp.ebi.ac.uk/pub/databases/metagenomics/mgnify_genomes/human-gut/v2.0.1/phylogenies/ar122_iqtree.nwk > $path_to_arch_tree"
   ]
  },
  {
   "cell_type": "markdown",
   "id": "0e14448e-c28a-4273-ab29-2d179fdba14b",
   "metadata": {
    "tags": []
   },
   "source": [
    "### Get dictionaries that contian best hits for both the forward and reverse blasts for both subtilis and aeruginosa csrA"
   ]
  },
  {
   "cell_type": "code",
   "execution_count": 21,
   "id": "9c61a449-b675-4efd-9051-30182058797f",
   "metadata": {
    "tags": []
   },
   "outputs": [],
   "source": [
    "\n",
    "def best_hit_to_dict(path_to_rblast_results, best_hit_col_name=None):\n",
    "    \"\"\"Return a dict with the accession of query genome and the best hit in the source genome\n",
    "\n",
    "    These are the results of the reciprical blast. For each genome, there was a best hit in the initial\n",
    "    blastp. This best hit was reciprical blasted against the genome containing the original query. If best\n",
    "    hit in this reciprical blastp is the initial query, then these proteins are likely orthologs.\n",
    "    \n",
    "    return (df): cols = [accession, protein_id]\n",
    "    \"\"\"\n",
    "    files = os.listdir(path_to_rblast_results)\n",
    "    paths = [os.path.join(path_to_rblast_results, file) for file in files]\n",
    "    d = {}\n",
    "    for path, file  in zip(paths, files):\n",
    "        accession = file.replace('_blastpOut.txt', '')\n",
    "        with open(path, 'r') as f:\n",
    "            for i,line in enumerate(f):\n",
    "                if line.startswith('>'):\n",
    "                    prot_id = line.split(' ')[0][1:]\n",
    "                    d[accession]=prot_id\n",
    "                    break\n",
    "    df = pd.DataFrame.from_dict(d, orient= 'index')\n",
    "    if not best_hit_col_name:\n",
    "        best_hit_col_name = 'besthit_prot_id'\n",
    "    df.columns = [best_hit_col_name]               \n",
    "    return df\n",
    "\n",
    "\n",
    "\n",
    "best_rHits_subt_df = best_hit_to_dict('../all_rblast_results_subtilis/reciprocal_blast_results/',best_hit_col_name='rbest_hit_subt' )\n",
    "best_fHits_subt_df = best_hit_to_dict('../all_rblast_results_subtilis/forward_blast_results/', best_hit_col_name='fbest_hit_subt')\n",
    "best_rHits_pseudo_df = best_hit_to_dict('../all_rblast_results_Psuedo/reciprocal_blast_results/', best_hit_col_name='rbest_hit_pseudo')\n",
    "best_fHits_pseudo_df = best_hit_to_dict('../all_rblast_results_Psuedo/forward_blast_results/', best_hit_col_name='fbest_hit_pseudo')\n"
   ]
  },
  {
   "cell_type": "markdown",
   "id": "4712ab9c-fffa-4f46-b25e-ec95d09fe004",
   "metadata": {
    "tags": []
   },
   "source": [
    "### Get two dfs of hs gut associeated species accessoins  \n",
    "1) containing those species with doubly-verified csrAs (csrA ortholog in both subtilis AND aeuruginosa reciprocal best hit blast)\n",
    "2) second list containing all species who had ortholog in at least one (subtilis OR aeuruginosa eciprocal best hit blast)  "
   ]
  },
  {
   "cell_type": "code",
   "execution_count": 22,
   "id": "df65fd7c-01fc-4497-8b5e-76b0f89ec68e",
   "metadata": {
    "tags": []
   },
   "outputs": [
    {
     "data": {
      "text/html": [
       "<div>\n",
       "<style scoped>\n",
       "    .dataframe tbody tr th:only-of-type {\n",
       "        vertical-align: middle;\n",
       "    }\n",
       "\n",
       "    .dataframe tbody tr th {\n",
       "        vertical-align: top;\n",
       "    }\n",
       "\n",
       "    .dataframe thead th {\n",
       "        text-align: right;\n",
       "    }\n",
       "</style>\n",
       "<table border=\"1\" class=\"dataframe\">\n",
       "  <thead>\n",
       "    <tr style=\"text-align: right;\">\n",
       "      <th></th>\n",
       "      <th>rbest_hit_subt</th>\n",
       "      <th>fbest_hit_subt</th>\n",
       "      <th>rbest_hit_pseudo</th>\n",
       "      <th>fbest_hit_pseudo</th>\n",
       "    </tr>\n",
       "  </thead>\n",
       "  <tbody>\n",
       "    <tr>\n",
       "      <th>MGYG000003619</th>\n",
       "      <td>NP_391417.1</td>\n",
       "      <td>MGYG000003619_01053</td>\n",
       "      <td>NP_249596.1</td>\n",
       "      <td>MGYG000003619_01053</td>\n",
       "    </tr>\n",
       "    <tr>\n",
       "      <th>MGYG000003060</th>\n",
       "      <td>NP_391417.1</td>\n",
       "      <td>MGYG000003060_00284</td>\n",
       "      <td>NP_249596.1</td>\n",
       "      <td>MGYG000003060_00284</td>\n",
       "    </tr>\n",
       "    <tr>\n",
       "      <th>MGYG000000626</th>\n",
       "      <td>NP_391417.1</td>\n",
       "      <td>MGYG000000626_00410</td>\n",
       "      <td>NP_249596.1</td>\n",
       "      <td>MGYG000000626_00410</td>\n",
       "    </tr>\n",
       "    <tr>\n",
       "      <th>MGYG000002462</th>\n",
       "      <td>NP_391417.1</td>\n",
       "      <td>MGYG000002462_03497</td>\n",
       "      <td>NP_249596.1</td>\n",
       "      <td>MGYG000002462_03497</td>\n",
       "    </tr>\n",
       "    <tr>\n",
       "      <th>MGYG000002532</th>\n",
       "      <td>NP_391417.1</td>\n",
       "      <td>MGYG000002532_03127</td>\n",
       "      <td>NP_249596.1</td>\n",
       "      <td>MGYG000002532_03127</td>\n",
       "    </tr>\n",
       "    <tr>\n",
       "      <th>...</th>\n",
       "      <td>...</td>\n",
       "      <td>...</td>\n",
       "      <td>...</td>\n",
       "      <td>...</td>\n",
       "    </tr>\n",
       "    <tr>\n",
       "      <th>MGYG000000864</th>\n",
       "      <td>NP_391417.1</td>\n",
       "      <td>MGYG000000864_02155</td>\n",
       "      <td>NP_249596.1</td>\n",
       "      <td>MGYG000000864_02155</td>\n",
       "    </tr>\n",
       "    <tr>\n",
       "      <th>MGYG000001491</th>\n",
       "      <td>NP_391417.1</td>\n",
       "      <td>MGYG000001491_01283</td>\n",
       "      <td>NP_249596.1</td>\n",
       "      <td>MGYG000001491_01283</td>\n",
       "    </tr>\n",
       "    <tr>\n",
       "      <th>MGYG000001312</th>\n",
       "      <td>NP_391417.1</td>\n",
       "      <td>MGYG000001312_01817</td>\n",
       "      <td>NP_249596.1</td>\n",
       "      <td>MGYG000001312_01817</td>\n",
       "    </tr>\n",
       "    <tr>\n",
       "      <th>MGYG000001486</th>\n",
       "      <td>NP_391417.1</td>\n",
       "      <td>MGYG000001486_01494</td>\n",
       "      <td>NP_249596.1</td>\n",
       "      <td>MGYG000001486_01494</td>\n",
       "    </tr>\n",
       "    <tr>\n",
       "      <th>MGYG000002404</th>\n",
       "      <td>NP_391417.1</td>\n",
       "      <td>MGYG000002404_03669</td>\n",
       "      <td>NP_249596.1</td>\n",
       "      <td>MGYG000002404_03669</td>\n",
       "    </tr>\n",
       "  </tbody>\n",
       "</table>\n",
       "<p>599 rows × 4 columns</p>\n",
       "</div>"
      ],
      "text/plain": [
       "              rbest_hit_subt       fbest_hit_subt rbest_hit_pseudo  \\\n",
       "MGYG000003619    NP_391417.1  MGYG000003619_01053      NP_249596.1   \n",
       "MGYG000003060    NP_391417.1  MGYG000003060_00284      NP_249596.1   \n",
       "MGYG000000626    NP_391417.1  MGYG000000626_00410      NP_249596.1   \n",
       "MGYG000002462    NP_391417.1  MGYG000002462_03497      NP_249596.1   \n",
       "MGYG000002532    NP_391417.1  MGYG000002532_03127      NP_249596.1   \n",
       "...                      ...                  ...              ...   \n",
       "MGYG000000864    NP_391417.1  MGYG000000864_02155      NP_249596.1   \n",
       "MGYG000001491    NP_391417.1  MGYG000001491_01283      NP_249596.1   \n",
       "MGYG000001312    NP_391417.1  MGYG000001312_01817      NP_249596.1   \n",
       "MGYG000001486    NP_391417.1  MGYG000001486_01494      NP_249596.1   \n",
       "MGYG000002404    NP_391417.1  MGYG000002404_03669      NP_249596.1   \n",
       "\n",
       "                  fbest_hit_pseudo  \n",
       "MGYG000003619  MGYG000003619_01053  \n",
       "MGYG000003060  MGYG000003060_00284  \n",
       "MGYG000000626  MGYG000000626_00410  \n",
       "MGYG000002462  MGYG000002462_03497  \n",
       "MGYG000002532  MGYG000002532_03127  \n",
       "...                            ...  \n",
       "MGYG000000864  MGYG000000864_02155  \n",
       "MGYG000001491  MGYG000001491_01283  \n",
       "MGYG000001312  MGYG000001312_01817  \n",
       "MGYG000001486  MGYG000001486_01494  \n",
       "MGYG000002404  MGYG000002404_03669  \n",
       "\n",
       "[599 rows x 4 columns]"
      ]
     },
     "execution_count": 22,
     "metadata": {},
     "output_type": "execute_result"
    }
   ],
   "source": [
    "df_subt = pd.merge(best_rHits_subt_df,best_fHits_subt_df, left_index=True, right_index=True)\n",
    "df_pseudo = pd.merge(best_rHits_pseudo_df,best_fHits_pseudo_df, left_index=True, right_index=True)\n",
    "df = pd.merge(df_subt,df_pseudo, left_index=True, right_index=True)\n",
    "bs_csrA_prot_ID = 'NP_391417.1'\n",
    "pa_csrA_prot_ID = 'NP_249596.1'\n",
    "\n",
    "df_filt_s = df.loc[df['rbest_hit_subt'] == bs_csrA_prot_ID,:]\n",
    "df_filt_p = df.loc[df['rbest_hit_pseudo'] == pa_csrA_prot_ID,:]\n",
    "df_double_verified = df_filt_s.loc[df_filt_s['rbest_hit_pseudo'] == pa_csrA_prot_ID,:]\n",
    "df_single_verified = df.loc[set(list(df_filt_s.index) +  list(df_filt_p.index)),:]\n",
    "df_double_verified"
   ]
  },
  {
   "cell_type": "code",
   "execution_count": 23,
   "id": "a235d5c8-8745-4b24-830c-43640bd929f5",
   "metadata": {
    "tags": []
   },
   "outputs": [
    {
     "data": {
      "text/html": [
       "<div>\n",
       "<style scoped>\n",
       "    .dataframe tbody tr th:only-of-type {\n",
       "        vertical-align: middle;\n",
       "    }\n",
       "\n",
       "    .dataframe tbody tr th {\n",
       "        vertical-align: top;\n",
       "    }\n",
       "\n",
       "    .dataframe thead th {\n",
       "        text-align: right;\n",
       "    }\n",
       "</style>\n",
       "<table border=\"1\" class=\"dataframe\">\n",
       "  <thead>\n",
       "    <tr style=\"text-align: right;\">\n",
       "      <th></th>\n",
       "      <th>rbest_hit_subt</th>\n",
       "      <th>fbest_hit_subt</th>\n",
       "      <th>rbest_hit_pseudo</th>\n",
       "      <th>fbest_hit_pseudo</th>\n",
       "    </tr>\n",
       "  </thead>\n",
       "  <tbody>\n",
       "    <tr>\n",
       "      <th>MGYG000003422</th>\n",
       "      <td>NP_391417.1</td>\n",
       "      <td>MGYG000003422_00948</td>\n",
       "      <td>NP_249596.1</td>\n",
       "      <td>MGYG000003422_00948</td>\n",
       "    </tr>\n",
       "    <tr>\n",
       "      <th>MGYG000001279</th>\n",
       "      <td>NP_391417.1</td>\n",
       "      <td>MGYG000001279_02140</td>\n",
       "      <td>NP_249596.1</td>\n",
       "      <td>MGYG000001279_02140</td>\n",
       "    </tr>\n",
       "    <tr>\n",
       "      <th>MGYG000000708</th>\n",
       "      <td>NP_391417.1</td>\n",
       "      <td>MGYG000000708_00219</td>\n",
       "      <td>NP_249596.1</td>\n",
       "      <td>MGYG000000708_00219</td>\n",
       "    </tr>\n",
       "    <tr>\n",
       "      <th>MGYG000000319</th>\n",
       "      <td>NP_391417.1</td>\n",
       "      <td>MGYG000000319_00190</td>\n",
       "      <td>NP_249596.1</td>\n",
       "      <td>MGYG000000319_00190</td>\n",
       "    </tr>\n",
       "    <tr>\n",
       "      <th>MGYG000002627</th>\n",
       "      <td>NP_391417.1</td>\n",
       "      <td>MGYG000002627_00788</td>\n",
       "      <td>NP_249596.1</td>\n",
       "      <td>MGYG000002627_00788</td>\n",
       "    </tr>\n",
       "    <tr>\n",
       "      <th>...</th>\n",
       "      <td>...</td>\n",
       "      <td>...</td>\n",
       "      <td>...</td>\n",
       "      <td>...</td>\n",
       "    </tr>\n",
       "    <tr>\n",
       "      <th>MGYG000001141</th>\n",
       "      <td>NP_391417.1</td>\n",
       "      <td>MGYG000001141_01877</td>\n",
       "      <td>NP_249596.1</td>\n",
       "      <td>MGYG000001141_00819</td>\n",
       "    </tr>\n",
       "    <tr>\n",
       "      <th>MGYG000000956</th>\n",
       "      <td>NP_391417.1</td>\n",
       "      <td>MGYG000000956_00582</td>\n",
       "      <td>NP_251998.1</td>\n",
       "      <td>MGYG000000956_00908</td>\n",
       "    </tr>\n",
       "    <tr>\n",
       "      <th>MGYG000004019</th>\n",
       "      <td>NP_391417.1</td>\n",
       "      <td>MGYG000004019_00901</td>\n",
       "      <td>NP_248733.1</td>\n",
       "      <td>MGYG000004019_00820</td>\n",
       "    </tr>\n",
       "    <tr>\n",
       "      <th>MGYG000001412</th>\n",
       "      <td>NP_391417.1</td>\n",
       "      <td>MGYG000001412_01472</td>\n",
       "      <td>NP_249596.1</td>\n",
       "      <td>MGYG000001412_01472</td>\n",
       "    </tr>\n",
       "    <tr>\n",
       "      <th>MGYG000001045</th>\n",
       "      <td>NP_391417.1</td>\n",
       "      <td>MGYG000001045_01588</td>\n",
       "      <td>NP_249596.1</td>\n",
       "      <td>MGYG000001045_01588</td>\n",
       "    </tr>\n",
       "  </tbody>\n",
       "</table>\n",
       "<p>842 rows × 4 columns</p>\n",
       "</div>"
      ],
      "text/plain": [
       "              rbest_hit_subt       fbest_hit_subt rbest_hit_pseudo  \\\n",
       "MGYG000003422    NP_391417.1  MGYG000003422_00948      NP_249596.1   \n",
       "MGYG000001279    NP_391417.1  MGYG000001279_02140      NP_249596.1   \n",
       "MGYG000000708    NP_391417.1  MGYG000000708_00219      NP_249596.1   \n",
       "MGYG000000319    NP_391417.1  MGYG000000319_00190      NP_249596.1   \n",
       "MGYG000002627    NP_391417.1  MGYG000002627_00788      NP_249596.1   \n",
       "...                      ...                  ...              ...   \n",
       "MGYG000001141    NP_391417.1  MGYG000001141_01877      NP_249596.1   \n",
       "MGYG000000956    NP_391417.1  MGYG000000956_00582      NP_251998.1   \n",
       "MGYG000004019    NP_391417.1  MGYG000004019_00901      NP_248733.1   \n",
       "MGYG000001412    NP_391417.1  MGYG000001412_01472      NP_249596.1   \n",
       "MGYG000001045    NP_391417.1  MGYG000001045_01588      NP_249596.1   \n",
       "\n",
       "                  fbest_hit_pseudo  \n",
       "MGYG000003422  MGYG000003422_00948  \n",
       "MGYG000001279  MGYG000001279_02140  \n",
       "MGYG000000708  MGYG000000708_00219  \n",
       "MGYG000000319  MGYG000000319_00190  \n",
       "MGYG000002627  MGYG000002627_00788  \n",
       "...                            ...  \n",
       "MGYG000001141  MGYG000001141_00819  \n",
       "MGYG000000956  MGYG000000956_00908  \n",
       "MGYG000004019  MGYG000004019_00820  \n",
       "MGYG000001412  MGYG000001412_01472  \n",
       "MGYG000001045  MGYG000001045_01588  \n",
       "\n",
       "[842 rows x 4 columns]"
      ]
     },
     "execution_count": 23,
     "metadata": {},
     "output_type": "execute_result"
    }
   ],
   "source": [
    "df_single_verified"
   ]
  },
  {
   "cell_type": "markdown",
   "id": "80a31600-e031-4d46-87c8-bb4b1ca8f21e",
   "metadata": {},
   "source": [
    "### Get the protein sequences for the putative csrAs in the Hs gut microbiome species"
   ]
  },
  {
   "cell_type": "code",
   "execution_count": 33,
   "id": "03a3cf9f-d86a-4758-80d6-c59bccc83687",
   "metadata": {
    "tags": []
   },
   "outputs": [],
   "source": [
    "def get_protein_dict(accessions, all_blast_results_dir):\n",
    "    \"\"\"Return dict with {prot_id:seq}, where seq is the forward blast best hit\"\"\"\n",
    "    seq_dict = {}\n",
    "    query_dir = os.path.join(all_blast_results_dir, 'forward_best_hits')\n",
    "    for acc in accessions:\n",
    "        seq_dict.update(pfa.get_seq_dict(os.path.join(query_dir, acc+'.faa')))\n",
    "    return seq_dict\n",
    "    \n",
    "    \n",
    "seq_dict_pseudo = get_protein_dict(accessions  = list(df_filt_p.index), all_blast_results_dir = '../all_rblast_results_Psuedo')\n",
    "seq_dict_subtilis = get_protein_dict(accessions = list(df_filt_s.index), all_blast_results_dir = '../all_rblast_results_subtilis')    "
   ]
  },
  {
   "cell_type": "code",
   "execution_count": 34,
   "id": "f0f19c77-cf69-4649-acce-de8346c51767",
   "metadata": {
    "tags": []
   },
   "outputs": [],
   "source": []
  },
  {
   "cell_type": "code",
   "execution_count": 149,
   "id": "31f53d2b-903a-4362-8e0d-439afd541df9",
   "metadata": {
    "tags": []
   },
   "outputs": [],
   "source": [
    "def separate_lineage(df):\n",
    "    lins = list(metadata_df['Lineage'])\n",
    "    d = {}\n",
    "    for acc in df.index:\n",
    "        lin = df.loc[acc, 'Lineage']\n",
    "        rank_l =lin.split(';')\n",
    "        d[acc] = []\n",
    "        for rank in rank_l:\n",
    "            d[acc].append(rank[3:]) \n",
    "    lineage_df = pd.DataFrame.from_dict(d, orient='index')\n",
    "    lineage_df.columns = ['Domain', 'Phylum', 'Class', 'Order', 'Fine', 'Gold', 'Species']\n",
    "    return df.merge(lineage_df, left_index=True, right_index=True)\n",
    "    "
   ]
  },
  {
   "cell_type": "code",
   "execution_count": 28,
   "id": "5e7414fb-76f4-4e2a-82c8-fcc7e09d2ed1",
   "metadata": {
    "tags": []
   },
   "outputs": [],
   "source": [
    "path_to_csra_tsv = '../Data/csrs.tsv'\n",
    "mot_csrA_df = pd.read_csv(path_to_csra_tsv, sep='\\t')\n",
    "mot_csrA_seqs_d = pfa.get_seq_dict('../Protein_seqs/csrA_sequences.faa')"
   ]
  },
  {
   "cell_type": "code",
   "execution_count": 150,
   "id": "e876f090-dc15-4413-b931-6c587ce508b0",
   "metadata": {
    "tags": []
   },
   "outputs": [],
   "source": [
    "d = {}\n",
    "d.update(seq_dict_subtilis)\n",
    "d.update(seq_dict_pseudo)\n",
    "matches = {prot_id:{} for prot_id in mot_csrA_seqs_d}\n",
    "for prot_id, seq in mot_csrA_seqs_d.items():\n",
    "    for gut_prot_id, gut_seq in d.items():\n",
    "        if seq == gut_seq:\n",
    "            matches[prot_id][gut_prot_id] = seq\n",
    "matches_e = {}\n",
    "for mot_csrA_id, dic, in matches.items():\n",
    "    if len(dic)!=0:\n",
    "        for gut_csrA_id, seq in dic.items():\n",
    "            matches_e[gut_csrA_id] = seq\n",
    "species_exact_matches =  [prot_id.split('_')[0] for prot_id in matches_e.keys()]\n",
    "df = metadata_df.loc[species_exact_matches,:]\n",
    "df = separate_lineage(df)[['Genome_type', 'Domain', 'Phylum', 'Class', 'Order', 'Fine', 'Gold', 'Species']]        \n",
    "df"
   ]
  },
  {
   "cell_type": "code",
   "execution_count": 158,
   "id": "17cf6935-b3fc-429f-9d3b-c5a17435d103",
   "metadata": {
    "tags": []
   },
   "outputs": [
    {
     "data": {
      "text/plain": [
       "{'Campylobacterota',\n",
       " 'Desulfobacterota',\n",
       " 'Firmicutes',\n",
       " 'Firmicutes_A',\n",
       " 'Proteobacteria'}"
      ]
     },
     "execution_count": 158,
     "metadata": {},
     "output_type": "execute_result"
    }
   ],
   "source": [
    "set(list(df['Phylum']))"
   ]
  },
  {
   "cell_type": "code",
   "execution_count": null,
   "id": "fc9afca7-f879-4204-9a4e-0da199759bda",
   "metadata": {
    "tags": []
   },
   "outputs": [],
   "source": []
  },
  {
   "cell_type": "code",
   "execution_count": null,
   "id": "154d12d0-bedd-49b5-8932-d9e0a21aaa8f",
   "metadata": {
    "tags": []
   },
   "outputs": [],
   "source": []
  },
  {
   "cell_type": "markdown",
   "id": "61c35e59-2680-455a-85a7-1e3bf60e86cf",
   "metadata": {
    "jupyter": {
     "outputs_hidden": true
    },
    "tags": []
   },
   "source": [
    "## Commented out code below should only be run once because of high computational burden"
   ]
  },
  {
   "cell_type": "markdown",
   "id": "29ce6997-0cca-41a1-bcb1-4f805009197f",
   "metadata": {
    "tags": []
   },
   "source": [
    "## Make one blast database from all Hs gut microbiome representative species  \n",
    "1) Concatenate proteomes from each species into one large file to make the database  "
   ]
  },
  {
   "cell_type": "code",
   "execution_count": null,
   "id": "1f5ff714-56cc-4ed1-81b1-dae12e04e2f4",
   "metadata": {},
   "outputs": [],
   "source": [
    "# proteomes = os.listdir('../Proteomes/')   \n",
    "# for proteome in proteomes:   \n",
    "#     fp = os.path.join('../Proteomes', proteome)    \n",
    "#     !cat $fp >> '../giant_proteome.faa'  \n",
    "#     !makeblastdb -in ../all_hs_gut_proteomes.faa -dbtype prot -out hs_gut_microbiome_db"
   ]
  },
  {
   "cell_type": "code",
   "execution_count": null,
   "id": "fe2a0875-8fb0-4b54-8e24-57fa3ad4e158",
   "metadata": {},
   "outputs": [],
   "source": [
    "# #write each mot csrA sequence to its own individual fasta file\n",
    "# p_dir =  '../ind_csrA_fastas'\n",
    "# os.makedirs(p_dir)\n",
    "# for seq_id, seq in mot_csrA_seqs_d.items():\n",
    "#     pfa.write_to_fasta({seq_id:seq}, os.path.join(p_dir, seq_id+'.faa'))"
   ]
  },
  {
   "cell_type": "markdown",
   "id": "fd8c5908-bd82-4465-98b3-937b20a945b1",
   "metadata": {
    "tags": []
   },
   "source": [
    "### Blastp each csrA query against the blastp database hs_gut_microbiome_db"
   ]
  },
  {
   "cell_type": "code",
   "execution_count": 6,
   "id": "c16baee0-af48-4498-950e-f20730213fa5",
   "metadata": {
    "tags": []
   },
   "outputs": [],
   "source": [
    "# import os\n",
    "# proteins = os.listdir('../ind_csrA_fastas/')\n",
    "# p_dir = '../All_csrA_hits'\n",
    "# os.makedirs(p_dir)\n",
    "# for protein in proteins:\n",
    "#     fp = os.path.join('../ind_csrA_fastas/', protein)\n",
    "#     out_filepath = os.path.join(p_dir, protein)\n",
    "#     base_filepath = '../hs_gut_microbiome_db/hs_gut_microbiome_db'\n",
    "#     print(fp, base_filepath, out_filepath)\n",
    "#     !blastp -query $fp -db $base_filepath -num_descriptions 50 -num_alignments 50 -word_size 7 -out $out_filepath\n",
    "#     print(f'finished blasting {protein} ')\n"
   ]
  },
  {
   "cell_type": "code",
   "execution_count": 172,
   "id": "1cf49696-fda6-44bc-bed3-4b081c2a78c0",
   "metadata": {
    "tags": []
   },
   "outputs": [],
   "source": [
    "def get_perc_id_blast(fp, cutoff = 99):\n",
    "    \"\"\"Return the top hit and the percent identity to the query\"\"\"\n",
    "    with open(fp, 'r') as f: \n",
    "        a = f.readlines()\n",
    "    d = {}\n",
    "    \n",
    "    for i, ele in enumerate(a):\n",
    "        if ele.startswith('>'):\n",
    "            prot_id = a[i].split(' ')[0][1:]\n",
    "            perc_ident = float(a[i+4].split(',')[0].split(' ')[-1].replace('(','').replace(')','')[:-1])\n",
    "            if perc_ident>=cutoff:\n",
    "                d[prot_id] = perc_ident\n",
    "\n",
    "    return d\n",
    "\n",
    "\n",
    "per_id_d = {}\n",
    "p_dir = '../All_csrA_hits/'\n",
    "files = os.listdir(p_dir)\n",
    "for file in files:\n",
    "    fp = os.path.join(p_dir, file)\n",
    "    per_id_d[file.replace('.faa', '')] = get_perc_id_blast(fp, cutoff = 100)\n",
    "df_blast_species = pd.DataFrame.from_dict(per_id_d, orient='index').transpose()\n",
    "blast_species = set([ele.split('_')[0] for ele in list(df_blast_species.index)])"
   ]
  },
  {
   "cell_type": "code",
   "execution_count": 175,
   "id": "85446a7e-fc77-4728-9dc3-d19ea901140e",
   "metadata": {
    "tags": []
   },
   "outputs": [
    {
     "data": {
      "text/html": [
       "<div>\n",
       "<style scoped>\n",
       "    .dataframe tbody tr th:only-of-type {\n",
       "        vertical-align: middle;\n",
       "    }\n",
       "\n",
       "    .dataframe tbody tr th {\n",
       "        vertical-align: top;\n",
       "    }\n",
       "\n",
       "    .dataframe thead th {\n",
       "        text-align: right;\n",
       "    }\n",
       "</style>\n",
       "<table border=\"1\" class=\"dataframe\">\n",
       "  <thead>\n",
       "    <tr style=\"text-align: right;\">\n",
       "      <th></th>\n",
       "      <th>Genome_type</th>\n",
       "      <th>Domain</th>\n",
       "      <th>Phylum</th>\n",
       "      <th>Class</th>\n",
       "      <th>Order</th>\n",
       "      <th>Fine</th>\n",
       "      <th>Gold</th>\n",
       "      <th>Species</th>\n",
       "    </tr>\n",
       "  </thead>\n",
       "  <tbody>\n",
       "    <tr>\n",
       "      <th>MGYG000003395</th>\n",
       "      <td>MAG</td>\n",
       "      <td>Bacteria</td>\n",
       "      <td>Proteobacteria</td>\n",
       "      <td>Gammaproteobacteria</td>\n",
       "      <td>Enterobacterales</td>\n",
       "      <td>Enterobacteriaceae</td>\n",
       "      <td>Superficieibacter</td>\n",
       "      <td>Superficieibacter sp900766525</td>\n",
       "    </tr>\n",
       "    <tr>\n",
       "      <th>MGYG000002467</th>\n",
       "      <td>Isolate</td>\n",
       "      <td>Bacteria</td>\n",
       "      <td>Proteobacteria</td>\n",
       "      <td>Gammaproteobacteria</td>\n",
       "      <td>Enterobacterales</td>\n",
       "      <td>Enterobacteriaceae</td>\n",
       "      <td>Yersinia</td>\n",
       "      <td>Yersinia frederiksenii_C</td>\n",
       "    </tr>\n",
       "    <tr>\n",
       "      <th>MGYG000001777</th>\n",
       "      <td>MAG</td>\n",
       "      <td>Bacteria</td>\n",
       "      <td>Firmicutes_A</td>\n",
       "      <td>Clostridia</td>\n",
       "      <td>Lachnospirales</td>\n",
       "      <td>Lachnospiraceae</td>\n",
       "      <td>Eubacterium_F</td>\n",
       "      <td>Eubacterium_F sp000434115</td>\n",
       "    </tr>\n",
       "    <tr>\n",
       "      <th>MGYG000002524</th>\n",
       "      <td>Isolate</td>\n",
       "      <td>Bacteria</td>\n",
       "      <td>Proteobacteria</td>\n",
       "      <td>Gammaproteobacteria</td>\n",
       "      <td>Enterobacterales</td>\n",
       "      <td>Enterobacteriaceae</td>\n",
       "      <td>Yersinia</td>\n",
       "      <td>Yersinia bercovieri</td>\n",
       "    </tr>\n",
       "    <tr>\n",
       "      <th>MGYG000002511</th>\n",
       "      <td>Isolate</td>\n",
       "      <td>Bacteria</td>\n",
       "      <td>Proteobacteria</td>\n",
       "      <td>Gammaproteobacteria</td>\n",
       "      <td>Enterobacterales</td>\n",
       "      <td>Enterobacteriaceae</td>\n",
       "      <td>Klebsiella</td>\n",
       "      <td>Klebsiella variicola</td>\n",
       "    </tr>\n",
       "    <tr>\n",
       "      <th>...</th>\n",
       "      <td>...</td>\n",
       "      <td>...</td>\n",
       "      <td>...</td>\n",
       "      <td>...</td>\n",
       "      <td>...</td>\n",
       "      <td>...</td>\n",
       "      <td>...</td>\n",
       "      <td>...</td>\n",
       "    </tr>\n",
       "    <tr>\n",
       "      <th>MGYG000002670</th>\n",
       "      <td>MAG</td>\n",
       "      <td>Bacteria</td>\n",
       "      <td>Firmicutes_A</td>\n",
       "      <td>Clostridia</td>\n",
       "      <td>Lachnospirales</td>\n",
       "      <td>Lachnospiraceae</td>\n",
       "      <td>Agathobacter</td>\n",
       "      <td>Agathobacter sp900546625</td>\n",
       "    </tr>\n",
       "    <tr>\n",
       "      <th>MGYG000002484</th>\n",
       "      <td>Isolate</td>\n",
       "      <td>Bacteria</td>\n",
       "      <td>Proteobacteria</td>\n",
       "      <td>Gammaproteobacteria</td>\n",
       "      <td>Enterobacterales</td>\n",
       "      <td>Enterobacteriaceae</td>\n",
       "      <td>Cronobacter</td>\n",
       "      <td>Cronobacter malonaticus</td>\n",
       "    </tr>\n",
       "    <tr>\n",
       "      <th>MGYG000001141</th>\n",
       "      <td>MAG</td>\n",
       "      <td>Bacteria</td>\n",
       "      <td>Firmicutes_A</td>\n",
       "      <td>Clostridia</td>\n",
       "      <td>Lachnospirales</td>\n",
       "      <td>Lachnospiraceae</td>\n",
       "      <td>CAG-303</td>\n",
       "      <td>CAG-303 sp000437755</td>\n",
       "    </tr>\n",
       "    <tr>\n",
       "      <th>MGYG000002463</th>\n",
       "      <td>Isolate</td>\n",
       "      <td>Bacteria</td>\n",
       "      <td>Proteobacteria</td>\n",
       "      <td>Gammaproteobacteria</td>\n",
       "      <td>Pseudomonadales</td>\n",
       "      <td>Pseudomonadaceae</td>\n",
       "      <td>Pseudomonas</td>\n",
       "      <td>Pseudomonas aeruginosa</td>\n",
       "    </tr>\n",
       "    <tr>\n",
       "      <th>MGYG000000235</th>\n",
       "      <td>Isolate</td>\n",
       "      <td>Bacteria</td>\n",
       "      <td>Proteobacteria</td>\n",
       "      <td>Gammaproteobacteria</td>\n",
       "      <td>Enterobacterales</td>\n",
       "      <td>Enterobacteriaceae</td>\n",
       "      <td>Enterobacter</td>\n",
       "      <td>Enterobacter kobei</td>\n",
       "    </tr>\n",
       "  </tbody>\n",
       "</table>\n",
       "<p>103 rows × 8 columns</p>\n",
       "</div>"
      ],
      "text/plain": [
       "              Genome_type    Domain          Phylum                Class  \\\n",
       "MGYG000003395         MAG  Bacteria  Proteobacteria  Gammaproteobacteria   \n",
       "MGYG000002467     Isolate  Bacteria  Proteobacteria  Gammaproteobacteria   \n",
       "MGYG000001777         MAG  Bacteria    Firmicutes_A           Clostridia   \n",
       "MGYG000002524     Isolate  Bacteria  Proteobacteria  Gammaproteobacteria   \n",
       "MGYG000002511     Isolate  Bacteria  Proteobacteria  Gammaproteobacteria   \n",
       "...                   ...       ...             ...                  ...   \n",
       "MGYG000002670         MAG  Bacteria    Firmicutes_A           Clostridia   \n",
       "MGYG000002484     Isolate  Bacteria  Proteobacteria  Gammaproteobacteria   \n",
       "MGYG000001141         MAG  Bacteria    Firmicutes_A           Clostridia   \n",
       "MGYG000002463     Isolate  Bacteria  Proteobacteria  Gammaproteobacteria   \n",
       "MGYG000000235     Isolate  Bacteria  Proteobacteria  Gammaproteobacteria   \n",
       "\n",
       "                          Order                Fine               Gold  \\\n",
       "MGYG000003395  Enterobacterales  Enterobacteriaceae  Superficieibacter   \n",
       "MGYG000002467  Enterobacterales  Enterobacteriaceae           Yersinia   \n",
       "MGYG000001777    Lachnospirales     Lachnospiraceae      Eubacterium_F   \n",
       "MGYG000002524  Enterobacterales  Enterobacteriaceae           Yersinia   \n",
       "MGYG000002511  Enterobacterales  Enterobacteriaceae         Klebsiella   \n",
       "...                         ...                 ...                ...   \n",
       "MGYG000002670    Lachnospirales     Lachnospiraceae       Agathobacter   \n",
       "MGYG000002484  Enterobacterales  Enterobacteriaceae        Cronobacter   \n",
       "MGYG000001141    Lachnospirales     Lachnospiraceae            CAG-303   \n",
       "MGYG000002463   Pseudomonadales    Pseudomonadaceae        Pseudomonas   \n",
       "MGYG000000235  Enterobacterales  Enterobacteriaceae       Enterobacter   \n",
       "\n",
       "                                     Species  \n",
       "MGYG000003395  Superficieibacter sp900766525  \n",
       "MGYG000002467       Yersinia frederiksenii_C  \n",
       "MGYG000001777      Eubacterium_F sp000434115  \n",
       "MGYG000002524            Yersinia bercovieri  \n",
       "MGYG000002511           Klebsiella variicola  \n",
       "...                                      ...  \n",
       "MGYG000002670       Agathobacter sp900546625  \n",
       "MGYG000002484        Cronobacter malonaticus  \n",
       "MGYG000001141            CAG-303 sp000437755  \n",
       "MGYG000002463         Pseudomonas aeruginosa  \n",
       "MGYG000000235             Enterobacter kobei  \n",
       "\n",
       "[103 rows x 8 columns]"
      ]
     },
     "execution_count": 175,
     "metadata": {},
     "output_type": "execute_result"
    }
   ],
   "source": [
    "blast_species_df = separate_lineage(metadata_df.loc[blast_species,:])[['Genome_type', 'Domain', 'Phylum', 'Class', 'Order', 'Fine', 'Gold', 'Species']]\n",
    "blast_species_df"
   ]
  },
  {
   "cell_type": "code",
   "execution_count": null,
   "id": "6b17f98c-638b-4227-9085-06db98949787",
   "metadata": {
    "collapsed": true,
    "jupyter": {
     "outputs_hidden": true
    },
    "tags": []
   },
   "outputs": [],
   "source": []
  },
  {
   "cell_type": "markdown",
   "id": "6714c79c-abad-4a58-8c79-a7e4c23c4005",
   "metadata": {},
   "source": [
    "The dominant gut microbial phyla are   \n",
    "Firmicutes, Bacteroidetes, Actinobacteria, Proteobacteria, Fusobacteria, and Verrucomicrobia,  \n",
    "with the two phyla Firmicutes and Bacteroidetes [13] representing 90% of gut microbiota.  \n",
    "https://www.ncbi.nlm.nih.gov/pmc/articles/PMC6351938/"
   ]
  },
  {
   "cell_type": "code",
   "execution_count": 185,
   "id": "0526425b-83a6-498d-b100-b0c15fd3fb59",
   "metadata": {
    "tags": []
   },
   "outputs": [
    {
     "data": {
      "text/plain": [
       "{'Campylobacterota',\n",
       " 'Desulfobacterota',\n",
       " 'Firmicutes',\n",
       " 'Firmicutes_A',\n",
       " 'Proteobacteria'}"
      ]
     },
     "execution_count": 185,
     "metadata": {},
     "output_type": "execute_result"
    }
   ],
   "source": [
    "set(blast_species_df['Phylum'])"
   ]
  },
  {
   "cell_type": "code",
   "execution_count": null,
   "id": "717945f6-c506-4ea0-919c-a100fe2930b4",
   "metadata": {
    "tags": []
   },
   "outputs": [],
   "source": []
  },
  {
   "cell_type": "code",
   "execution_count": null,
   "id": "4d2c88fd-6422-49ab-a3cf-be759ee9af2e",
   "metadata": {},
   "outputs": [],
   "source": []
  },
  {
   "cell_type": "code",
   "execution_count": 187,
   "id": "57432706-ede6-4094-9b56-00f6038aa5d1",
   "metadata": {
    "tags": []
   },
   "outputs": [],
   "source": []
  },
  {
   "cell_type": "code",
   "execution_count": null,
   "id": "305c051e-9944-490d-b463-02b254be0f9f",
   "metadata": {
    "tags": []
   },
   "outputs": [],
   "source": []
  },
  {
   "cell_type": "code",
   "execution_count": null,
   "id": "f06b60b6-62bd-414d-a39c-552a8da3e86e",
   "metadata": {
    "tags": []
   },
   "outputs": [],
   "source": []
  },
  {
   "cell_type": "code",
   "execution_count": null,
   "id": "85332f54-c8ea-47cb-a17b-b2151e508b33",
   "metadata": {
    "collapsed": true,
    "jupyter": {
     "outputs_hidden": true
    },
    "tags": []
   },
   "outputs": [],
   "source": []
  },
  {
   "cell_type": "code",
   "execution_count": null,
   "id": "5cc4e5a8-7c83-42f3-80c5-046cfefb31d2",
   "metadata": {},
   "outputs": [],
   "source": []
  },
  {
   "cell_type": "code",
   "execution_count": null,
   "id": "23a43136-e8b8-4a3c-8148-7753244acf4d",
   "metadata": {},
   "outputs": [],
   "source": []
  },
  {
   "cell_type": "code",
   "execution_count": null,
   "id": "c27938cb-b1fd-40d6-a351-9f8f982e92fd",
   "metadata": {},
   "outputs": [],
   "source": []
  },
  {
   "cell_type": "code",
   "execution_count": null,
   "id": "38d67047-3a06-4215-a99f-121f3d879530",
   "metadata": {},
   "outputs": [],
   "source": []
  },
  {
   "cell_type": "code",
   "execution_count": null,
   "id": "c4e859c4-c056-48c2-8d4b-c00b722cd2ac",
   "metadata": {},
   "outputs": [],
   "source": []
  }
 ],
 "metadata": {
  "kernelspec": {
   "display_name": "Python 3 (ipykernel)",
   "language": "python",
   "name": "python3"
  },
  "language_info": {
   "codemirror_mode": {
    "name": "ipython",
    "version": 3
   },
   "file_extension": ".py",
   "mimetype": "text/x-python",
   "name": "python",
   "nbconvert_exporter": "python",
   "pygments_lexer": "ipython3",
   "version": "3.9.12"
  }
 },
 "nbformat": 4,
 "nbformat_minor": 5
}
